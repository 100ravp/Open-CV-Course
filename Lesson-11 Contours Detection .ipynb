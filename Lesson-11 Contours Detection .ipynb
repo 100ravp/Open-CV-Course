{
 "cells": [
  {
   "cell_type": "code",
   "execution_count": 7,
   "metadata": {},
   "outputs": [],
   "source": [
    "#importing the libraries\n",
    "import cv2\n",
    "import numpy as np\n",
    "import matplotlib.pyplot as plt\n",
    "\n",
    "%matplotlib inline"
   ]
  },
  {
   "cell_type": "code",
   "execution_count": 12,
   "metadata": {},
   "outputs": [],
   "source": [
    "def image_plot(image):\n",
    "    '''\n",
    "     This function take the image and plot it \n",
    "     '''\n",
    "    plt.figure(figsize =(7,7))\n",
    "    plt.imshow(image,\"gray\")"
   ]
  },
  {
   "cell_type": "code",
   "execution_count": 13,
   "metadata": {},
   "outputs": [
    {
     "data": {
      "image/png": "[encoded data removed]",
      "text/plain": [
       "<Figure size 504x504 with 1 Axes>"
      ]
     },
     "metadata": {
      "needs_background": "light"
     },
     "output_type": "display_data"
    }
   ],
   "source": [
    "#loading the image as gray scale image\n",
    "image = cv2.imread(\"thresh.PNG\",0)\n",
    "\n",
    "#applying the Inverse binary thresholding\n",
    "ret,image = cv2.threshold(image,152,255,cv2.THRESH_BINARY_INV)\n",
    "image_plot(image)"
   ]
  },
  {
   "cell_type": "code",
   "execution_count": 18,
   "metadata": {},
   "outputs": [],
   "source": [
    "#findind the contours in the image\n",
    "contours, hier =cv2.findContours(image, cv2.RETR_CCOMP, cv2.CHAIN_APPROX_SIMPLE)"
   ]
  },
  {
   "cell_type": "code",
   "execution_count": 19,
   "metadata": {},
   "outputs": [
    {
     "data": {
      "text/plain": [
       "7"
      ]
     },
     "execution_count": 19,
     "metadata": {},
     "output_type": "execute_result"
    }
   ],
   "source": [
    "# gives the number of contours detected\n",
    "len(contours)"
   ]
  },
  {
   "cell_type": "code",
   "execution_count": null,
   "metadata": {},
   "outputs": [],
   "source": []
  },
  {
   "cell_type": "markdown",
   "metadata": {},
   "source": [
    "# External Contours"
   ]
  },
  {
   "cell_type": "code",
   "execution_count": 21,
   "metadata": {},
   "outputs": [
    {
     "data": {
      "image/png": "[encoded data removed]",
      "text/plain": [
       "<Figure size 504x504 with 1 Axes>"
      ]
     },
     "metadata": {
      "needs_background": "light"
     },
     "output_type": "display_data"
    }
   ],
   "source": [
    "#creating a black image of same size\n",
    "black_image = np.zeros(image.shape)\n",
    "\n",
    "#running a for loop to draw all the contours\n",
    "for i in range(len(contours)):\n",
    "    \n",
    "    if hier[0][i][3]==-1: #condition for external contours\n",
    "        \n",
    "        #function draws the detected contours\n",
    "        cv2.drawContours(black_image, contours, i ,255,-1)\n",
    "        \n",
    "image_plot(black_image)"
   ]
  },
  {
   "cell_type": "markdown",
   "metadata": {},
   "source": [
    "# Internal Contours"
   ]
  },
  {
   "cell_type": "code",
   "execution_count": 22,
   "metadata": {},
   "outputs": [
    {
     "data": {
      "image/png": "[encoded data removed]",
      "text/plain": [
       "<Figure size 504x504 with 1 Axes>"
      ]
     },
     "metadata": {
      "needs_background": "light"
     },
     "output_type": "display_data"
    }
   ],
   "source": [
    "#drawing the image\n",
    "black_image = np.zeros(image.shape)\n",
    "\n",
    "#running the for loop\n",
    "for i in range(len(contours)):\n",
    "    \n",
    "    if hier[0][i][3]==0: #condition for internal contours\n",
    "        cv2.drawContours(black_image, contours, i ,255,-1)\n",
    "        \n",
    "image_plot(black_image)"
   ]
  },
  {
   "cell_type": "code",
   "execution_count": 23,
   "metadata": {},
   "outputs": [],
   "source": [
    "def detect(path):\n",
    "    \n",
    "    '''This function requires path of the image and it detects blue region in the photos'''\n",
    "    \n",
    "    #loading the image\n",
    "    image = cv2.imread(path)\n",
    "    \n",
    "    #converting into HSV color channel\n",
    "    image = cv2.cvtColor(image, cv2.COLOR_BGR2HSV)\n",
    "    \n",
    "    #setting lower color range\n",
    "    lower = np.array([38,86,0])\n",
    "    \n",
    "    #setting higher color range\n",
    "    higher = np.array([121,255,255])\n",
    "    \n",
    "    #converting into binary image\n",
    "    mask =cv2.inRange(image, lower, higher)\n",
    "    \n",
    "    #finding the contours\n",
    "    contours,hier = cv2.findContours(mask, cv2.RETR_CCOMP, cv2.CHAIN_APPROX_NONE)\n",
    "    \n",
    "    #reloading the same image\n",
    "    image = cv2.imread(path)\n",
    "    \n",
    "    #converting into RGB color channel\n",
    "    image = cv2.cvtColor(image, cv2.COLOR_BGR2RGB)\n",
    "    \n",
    "    #drawing the detected contours\n",
    "    detect_mask = cv2.drawContours(image, contours,-1,(255,0,0),10)\n",
    "    \n",
    "    \n",
    "    return detect_mask"
   ]
  },
  {
   "cell_type": "code",
   "execution_count": 24,
   "metadata": {},
   "outputs": [],
   "source": [
    "#applying function on the image\n",
    "image = detect(\"mask_man.jpg\")\n",
    "\n",
    "#plotting the image\n",
    "image_plot(image)"
   ]
  },
  {
   "cell_type": "markdown",
   "metadata": {},
   "source": [
    "# Real Time Contours detection"
   ]
  },
  {
   "cell_type": "code",
   "execution_count": 68,
   "metadata": {},
   "outputs": [],
   "source": [
    "#capturing from webcam\n",
    "cap = cv2.VideoCapture(0)\n",
    "\n",
    "while True:\n",
    "    #reading the frames\n",
    "    _, frame = cap.read()\n",
    "    \n",
    "    #applying blurring on each frame\n",
    "    blurred_frame = cv2.GaussianBlur(frame, (51,51),0)\n",
    "    \n",
    "    #converting it into hsv\n",
    "    hsv = cv2.cvtColor(blurred_frame, cv2.COLOR_BGR2HSV)\n",
    "    \n",
    "    #defining the range for color\n",
    "    lower = np.array([50,45,0])\n",
    "    high = np.array([121,150,150])\n",
    "    \n",
    "    #converting into binary image\n",
    "    mask = cv2.inRange(hsv, low, high)\n",
    "    \n",
    "    #finding all the contours\n",
    "    contours,_= cv2.findContours(mask, cv2.RETR_TREE, cv2.CHAIN_APPROX_NONE)\n",
    "    \n",
    "    #updating the contours with frames\n",
    "    for contour in contours:\n",
    "        cv2.drawContours(frame,contour,-1, (0,255,0),2)\n",
    "    \n",
    "    #showing the frame\n",
    "    cv2.imshow(\"fame\",frame)\n",
    "    cv2.imshow(\"mask\", mask)\n",
    "    \n",
    "        \n",
    "     #Exit condition   \n",
    "    if cv2.waitKey(1) & 0xFF ==27:\n",
    "        break\n",
    "    \n",
    "#      \n",
    "cap.release()\n",
    "cv2.destroyAllWindows()"
   ]
  },
  {
   "cell_type": "code",
   "execution_count": null,
   "metadata": {},
   "outputs": [],
   "source": []
  }
 ],
 "metadata": {
  "kernelspec": {
   "display_name": "Python 3",
   "language": "python",
   "name": "python3"
  },
  "language_info": {
   "codemirror_mode": {
    "name": "ipython",
    "version": 3
   },
   "file_extension": ".py",
   "mimetype": "text/x-python",
   "name": "python",
   "nbconvert_exporter": "python",
   "pygments_lexer": "ipython3",
   "version": "3.7.6"
  }
 },
 "nbformat": 4,
 "nbformat_minor": 4
}

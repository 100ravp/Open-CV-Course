{
 "cells": [
  {
   "cell_type": "code",
   "execution_count": 5,
   "metadata": {},
   "outputs": [],
   "source": [
    "import cv2\n",
    "import numpy as np\n",
    "\n",
    "#creating a function\n",
    "def draw_rect(event, x,y, flags, param):\n",
    "    \n",
    "    if event == cv2.EVENT_LBUTTONDOWN:\n",
    "        cv2.rectangle(image,(x,y),(x+200,y+200),(0,255,0),1)\n",
    "    \n",
    "    elif event ==cv2.EVENT_RBUTTONDOWN:\n",
    "        cv2.rectangle(image,(x,y),(x+200,y+200),(0,255,0),1)\n",
    "        \n",
    "\n",
    "\n",
    "#connecting mouse callback with window\n",
    "cv2.namedWindow(winname=\"Cat\")\n",
    "cv2.setMouseCallback(\"Cat\",draw_rect)\n",
    "\n",
    "#creating an image\n",
    "image = np.zeros((512,512,3))\n",
    "\n",
    "while True:\n",
    "    \n",
    "    cv2.imshow(\"Cat\",image)\n",
    "    \n",
    "    if cv2.waitKey(1) & 0xFF == 27:\n",
    "        break \n",
    "cv2.destroyAllWindows()"
   ]
  },
  {
   "cell_type": "code",
   "execution_count": null,
   "metadata": {},
   "outputs": [],
   "source": []
  }
 ],
 "metadata": {
  "kernelspec": {
   "display_name": "Python 3",
   "language": "python",
   "name": "python3"
  },
  "language_info": {
   "codemirror_mode": {
    "name": "ipython",
    "version": 3
   },
   "file_extension": ".py",
   "mimetype": "text/x-python",
   "name": "python",
   "nbconvert_exporter": "python",
   "pygments_lexer": "ipython3",
   "version": "3.7.6"
  }
 },
 "nbformat": 4,
 "nbformat_minor": 4
}

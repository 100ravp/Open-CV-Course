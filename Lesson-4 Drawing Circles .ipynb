{
 "cells": [
  {
   "cell_type": "code",
   "execution_count": null,
   "metadata": {},
   "outputs": [],
   "source": [
    "import cv2\n",
    "import numpy as np\n",
    "\n",
    "#functions\n",
    "def draw_cricle(event, x, y, flags, param):\n",
    "    \n",
    "    if event == cv2.EVENT_LBUTTONDOWN:\n",
    "        cv2.circle(image,(x,y),100,(250,20,100),-1)\n",
    "    elif event == cv2.EVENT_RBUTTONDOWN:\n",
    "        cv2.circle(image,(x,y),100,(0,120,100),-1)\n",
    "        \n",
    "        \n",
    "#connecting the mouse call back\n",
    "cv2.namedWindow(winname= \"my_image\")\n",
    "cv2.setMouseCallback(\"my_image\",draw_cricle)\n",
    "\n",
    "image = np.zeros((512,512,3),np.int8)\n",
    "\n",
    "#loading image and exiting using keyboard\n",
    "while True:\n",
    "    cv2.imshow(\"my_image\",image)\n",
    "    \n",
    "    if cv2.waitKey(20) & 0xFF ==27:\n",
    "        break\n",
    "        \n",
    "cv2.destroyAllWindows()"
   ]
  }
 ],
 "metadata": {
  "kernelspec": {
   "display_name": "Python 3",
   "language": "python",
   "name": "python3"
  },
  "language_info": {
   "codemirror_mode": {
    "name": "ipython",
    "version": 3
   },
   "file_extension": ".py",
   "mimetype": "text/x-python",
   "name": "python",
   "nbconvert_exporter": "python",
   "pygments_lexer": "ipython3",
   "version": "3.7.6"
  }
 },
 "nbformat": 4,
 "nbformat_minor": 4
}

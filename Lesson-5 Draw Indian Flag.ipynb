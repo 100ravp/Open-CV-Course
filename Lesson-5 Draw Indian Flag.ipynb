{
 "cells": [
  {
   "cell_type": "code",
   "execution_count": 2,
   "metadata": {},
   "outputs": [],
   "source": [
    "import numpy as np\n",
    "import cv2\n",
    "\n",
    "\n",
    "\n",
    "#global Variables\n",
    "draw = False\n",
    "_x,_y=0,0\n",
    "\n",
    "#creating a function\n",
    "def draw_rectangle(event,x,y,flags,param):\n",
    "    \n",
    "    global draw, _x,_y\n",
    "    \n",
    "    \n",
    "    if event==cv2.EVENT_LBUTTONDOWN:\n",
    "        \n",
    "        draw =True\n",
    "        _x,_y=x,y\n",
    "        \n",
    "    elif event==cv2.EVENT_MOUSEMOVE:\n",
    "        if draw==True:\n",
    "            cv2.rectangle(image,(_x,_y),(x,y),(0,255,255),-1)\n",
    "            cv2.rectangle(image,(_x,_y+50),(x,y+50),(255,255,255),-1)\n",
    "            cv2.rectangle(image,(_x,_y+100),(x,y+100),(0,255,0),-1)\n",
    "            cv2.circle(image,(_x+100,_y+75),20,(255,0,0),5,1)\n",
    "            \n",
    "    elif event == cv2.EVENT_LBUTTONUP:\n",
    "        draw =False\n",
    "        cv2.rectangle(image,(_x,_y),(x,y),(0,255,255),-1)\n",
    "        cv2.rectangle(image,(_x,_y+50),(x,y+50),(255,255,255),-1)\n",
    "        cv2.rectangle(image,(_x,_y+100),(x,y+100),(0,255,0),-1)\n",
    "        cv2.circle(image,(_x+100,_y+75),20,(255,0,0),5,1)\n",
    "\n",
    "#to connect windows with callbacks\n",
    "cv2.namedWindow(winname=\"my_image\")\n",
    "cv2.setMouseCallback(\"my_image\",draw_rectangle)\n",
    "\n",
    "#create an image\n",
    "image = np.zeros((512,512,3))\n",
    "\n",
    "#showing the image and exit using keyboard\n",
    "while True:\n",
    "    cv2.imshow(\"my_image\",image)\n",
    "    \n",
    "    if cv2.waitKey(20) & 0xFF == 27:\n",
    "        break\n",
    "cv2.destroyAllWindows()"
   ]
  }
 ],
 "metadata": {
  "kernelspec": {
   "display_name": "Python 3",
   "language": "python",
   "name": "python3"
  },
  "language_info": {
   "codemirror_mode": {
    "name": "ipython",
    "version": 3
   },
   "file_extension": ".py",
   "mimetype": "text/x-python",
   "name": "python",
   "nbconvert_exporter": "python",
   "pygments_lexer": "ipython3",
   "version": "3.7.6"
  }
 },
 "nbformat": 4,
 "nbformat_minor": 4
}

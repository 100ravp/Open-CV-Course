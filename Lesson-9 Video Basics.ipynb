{
 "cells": [
  {
   "cell_type": "markdown",
   "metadata": {},
   "source": [
    "# Capturing Video "
   ]
  },
  {
   "cell_type": "code",
   "execution_count": 5,
   "metadata": {},
   "outputs": [],
   "source": [
    "import cv2\n",
    "\n",
    "cap= cv2.VideoCapture(0)\n",
    "\n",
    "width = int(cap.get(cv2.CAP_PROP_FRAME_WIDTH))\n",
    "height = int(cap.get(cv2.CAP_PROP_FRAME_HEIGHT))\n",
    "\n",
    "# Mac or Linux *\"XVID\"\n",
    "#windowa *\"DIVX\"\n",
    "writer= cv2.VideoWriter(\"My_web.mp4\",cv2.VideoWriter_fourcc(*\"DIVX\"),20,(width,height))\n",
    "\n",
    "while True:\n",
    "    \n",
    "    ret,frame =cap.read()\n",
    "    \n",
    "    writer.write(frame)\n",
    "    \n",
    "   \n",
    "    cv2.imshow(\"Frame\",frame)\n",
    "    \n",
    "    if cv2.waitKey(1) & 0xFF==27:\n",
    "        break\n",
    "\n",
    "writer.release()\n",
    "cap.release()\n",
    "cv2.destroyAllWindows()"
   ]
  },
  {
   "cell_type": "markdown",
   "metadata": {},
   "source": [
    "# Playing Video"
   ]
  },
  {
   "cell_type": "code",
   "execution_count": 11,
   "metadata": {},
   "outputs": [],
   "source": [
    "import time\n",
    "cap = cv2.VideoCapture(\"avenger.mp4\")\n",
    "\n",
    "if cap.isOpened() == False:\n",
    "    print(\"No file\")\n",
    "    \n",
    "\n",
    "while cap.isOpened():\n",
    "    \n",
    "    \n",
    "    ret,frame = cap.read()\n",
    "    \n",
    "    \n",
    "    if ret == True:\n",
    "        \n",
    "        time.sleep(1/10)\n",
    "        cv2.imshow(\"Frame\",frame)\n",
    "        \n",
    "        if cv2.waitKey(1) & 0xFF == 27:\n",
    "            break\n",
    "            \n",
    "    else:\n",
    "        break\n",
    "        \n",
    "cap.release()\n",
    "cv2.destroyAllWindows()"
   ]
  },
  {
   "cell_type": "code",
   "execution_count": null,
   "metadata": {},
   "outputs": [],
   "source": []
  }
 ],
 "metadata": {
  "kernelspec": {
   "display_name": "Python 3",
   "language": "python",
   "name": "python3"
  },
  "language_info": {
   "codemirror_mode": {
    "name": "ipython",
    "version": 3
   },
   "file_extension": ".py",
   "mimetype": "text/x-python",
   "name": "python",
   "nbconvert_exporter": "python",
   "pygments_lexer": "ipython3",
   "version": "3.7.6"
  }
 },
 "nbformat": 4,
 "nbformat_minor": 4
}
